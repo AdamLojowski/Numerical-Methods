{
 "cells": [
  {
   "cell_type": "code",
   "execution_count": 1,
   "metadata": {},
   "outputs": [],
   "source": [
    "import numpy as np\n",
    "import matplotlib.pyplot as plt"
   ]
  },
  {
   "cell_type": "markdown",
   "metadata": {},
   "source": [
    "### Metoda Bisekcji\n",
    "Przykładowa funkcja"
   ]
  },
  {
   "cell_type": "code",
   "execution_count": 80,
   "metadata": {},
   "outputs": [],
   "source": [
    "def fun(x):\n",
    "    return x**8 - 36*x**7 + 546*x**6 - 4536*x**5 + 22449*x**4 - 67284*x**3 + 118124*x**2 - 109584*x + 40320"
   ]
  },
  {
   "cell_type": "code",
   "execution_count": 114,
   "metadata": {},
   "outputs": [],
   "source": [
    "def bisec(a,b, fun, eps, x_zero):\n",
    "    an = a\n",
    "    bn = b\n",
    "    X = []\n",
    "    Y = []\n",
    "    cn = (an+bn)/2\n",
    "    cn_list = [cn]\n",
    "    i = 0\n",
    "    \n",
    "    while np.abs(bn-an) > eps:\n",
    "            \n",
    "        if i > 100:\n",
    "            print('Przekroczono ilość iteracji')\n",
    "            return False\n",
    "\n",
    "        if fun(an)*fun(bn)>0:\n",
    "            an = cn\n",
    "            bn = bn\n",
    "        elif fun(an)*fun(bn)<0:\n",
    "            an = an\n",
    "            bn = cn\n",
    "        else:\n",
    "            \n",
    "            return cn, X, Y\n",
    "\n",
    "        cn = (an+bn)/2\n",
    "        cn_list.append(cn)\n",
    "        i += 0\n",
    "    \n",
    "    for j in range(len(cn_list)-1):   \n",
    "        X.append(np.log(np.abs(cn_list[j]-x_zero)))\n",
    "        Y.append(np.log(np.abs(cn_list[j+1]-x_zero)))\n",
    "        \n",
    "    return cn, X, Y"
   ]
  },
  {
   "cell_type": "code",
   "execution_count": 115,
   "metadata": {},
   "outputs": [],
   "source": [
    "def draw_bisec(x2, X, Y, title=''):\n",
    "\n",
    "    pfit = np.polyfit(X, Y, 1)\n",
    "    print('Wyliczone miejsce zerowe: ', x2)\n",
    "\n",
    "    print('Numeryczna wartość alfa: ', pfit[0])\n",
    "\n",
    "\n",
    "    plt.scatter(X, Y, label = f'alfa = {pfit[0]}')\n",
    "    plt.plot(X, np.polyval(pfit, X))\n",
    "    plt.legend()\n",
    "    plt.title(f'{title}')\n",
    "    plt.show()"
   ]
  },
  {
   "cell_type": "code",
   "execution_count": 116,
   "metadata": {},
   "outputs": [
    {
     "name": "stdout",
     "output_type": "stream",
     "text": [
      "Wyliczone miejsce zerowe:  5.9499664306640625\n",
      "Numeryczna wartość alfa:  0.5281147611621271\n"
     ]
    },
    {
     "data": {
      "image/png": "[encoded data removed]",
      "text/plain": [
       "<Figure size 432x288 with 1 Axes>"
      ]
     },
     "metadata": {
      "needs_background": "light"
     },
     "output_type": "display_data"
    }
   ],
   "source": [
    "result = bisec(5.4,6.5,fun,0.0001, 6)\n",
    "draw_bisec(result[0], result[1], result [2], 'bisec')"
   ]
  },
  {
   "cell_type": "markdown",
   "metadata": {},
   "source": [
    "### Przykładowe funkcje oraz ich pochodne"
   ]
  },
  {
   "cell_type": "code",
   "execution_count": 70,
   "metadata": {},
   "outputs": [],
   "source": [
    "def a(x):\n",
    "    return np.sin(x/2)-1\n",
    "\n",
    "def a_prim(x):\n",
    "    return 0.5*np.cos(x/2)\n",
    "\n",
    "def b(x):\n",
    "    return np.e**x-np.tan(x)\n",
    "\n",
    "def b_prim(x):\n",
    "    return np.e**x-1/((np.cos(x))**2)\n",
    "\n",
    "def c(x):\n",
    "    return x**3-12*x**2+3*x+1\n",
    "\n",
    "def c_prim(x):\n",
    "    return (x**2-8*x+1)*3"
   ]
  },
  {
   "cell_type": "markdown",
   "metadata": {},
   "source": [
    "### Metoda Newtona"
   ]
  },
  {
   "cell_type": "code",
   "execution_count": 117,
   "metadata": {},
   "outputs": [],
   "source": [
    "def Newton(x, f, f_prim, epsilon, x_zero):\n",
    "\n",
    "    x1 = x\n",
    "    x2 = x1 - f(x1)/f_prim(x1)\n",
    "    i = 0\n",
    "\n",
    "    X = []\n",
    "    Y = []\n",
    "\n",
    "    while np.abs(x1-x2) > epsilon:\n",
    "        X.append(np.log(np.abs(x1 - x_zero)))\n",
    "        Y.append(np.log(np.abs(x2 - x_zero)))\n",
    "        x1, x2 = x2, x2 - f(x2)/f_prim(x2)\n",
    "\n",
    "        i += 1\n",
    "        if i > 100:\n",
    "            print('Przekroczono ilość iteracji')\n",
    "            return False\n",
    "    return x2, X, Y\n",
    "\n",
    "def draw(x2, X, Y,theo_alfa, title=''):\n",
    "\n",
    "    pfit = np.polyfit(X, Y, 1)\n",
    "    print('Wyliczone miejsce zerowe: ', x2)\n",
    "\n",
    "    print('Numeryczna wartość alfa: ', pfit[0])\n",
    "\n",
    "    print('Teoretyczna wartość alfa: ', theo_alfa)\n",
    "\n",
    "    plt.scatter(X, Y, label = f'alfa = {pfit[0]}')\n",
    "    plt.plot(X, np.polyval(pfit, X))\n",
    "    plt.legend()\n",
    "    plt.title(f'{title}')\n",
    "    plt.show()\n",
    "    "
   ]
  },
  {
   "cell_type": "markdown",
   "metadata": {},
   "source": [
    "### Metoda Newtona dla $f(x) = \\sin{\\frac{x}{2}}-1, x_0 = 0.4\\pi$"
   ]
  },
  {
   "cell_type": "code",
   "execution_count": 118,
   "metadata": {},
   "outputs": [
    {
     "name": "stdout",
     "output_type": "stream",
     "text": [
      "Wyliczone miejsce zerowe:  3.141591845085682\n",
      "Numeryczna wartość alfa:  0.9978642972013485\n",
      "Teoretyczna wartość alfa:  2\n"
     ]
    },
    {
     "data": {
      "image/png": "[encoded data removed]",
      "text/plain": [
       "<Figure size 432x288 with 1 Axes>"
      ]
     },
     "metadata": {
      "needs_background": "light"
     },
     "output_type": "display_data"
    }
   ],
   "source": [
    "result = Newton(0.4*np.pi, a, a_prim, 0.000001, np.pi)\n",
    "draw(result[0], result[1], result[2], 2, 'Sin(x/2)')\n"
   ]
  },
  {
   "cell_type": "markdown",
   "metadata": {},
   "source": [
    "### Metoda Newtona dla $f(x) = e^x-\\tan{x}, x_0 = 1.4$"
   ]
  },
  {
   "cell_type": "code",
   "execution_count": 120,
   "metadata": {},
   "outputs": [
    {
     "name": "stdout",
     "output_type": "stream",
     "text": [
      "Wyliczone miejsce zerowe:  1.3063269404230793\n",
      "Numeryczna wartość alfa:  1.9482163333706275\n",
      "Teoretyczna wartość alfa:  2\n"
     ]
    },
    {
     "data": {
      "image/png": "[encoded data removed]",
      "text/plain": [
       "<Figure size 432x288 with 1 Axes>"
      ]
     },
     "metadata": {
      "needs_background": "light"
     },
     "output_type": "display_data"
    }
   ],
   "source": [
    "x_aprox = 1.306326940423\n",
    "result = Newton(1.4, b, b_prim, 0.0000001, x_aprox)\n",
    "draw(result[0], result[1], result[2], 2, 'e^x-tan(x)')"
   ]
  },
  {
   "cell_type": "markdown",
   "metadata": {},
   "source": [
    "### Metoda Newtona dla $f(x) = x^3 - 12x^2 + 3x + 1, x_0 = 1$"
   ]
  },
  {
   "cell_type": "code",
   "execution_count": 121,
   "metadata": {},
   "outputs": [
    {
     "name": "stdout",
     "output_type": "stream",
     "text": [
      "Wyliczone miejsce zerowe:  0.45154322422848736\n",
      "Numeryczna wartość alfa:  0.3591160364504663\n",
      "Teoretyczna wartość alfa:  2\n"
     ]
    },
    {
     "data": {
      "image/png": "[encoded data removed]",
      "text/plain": [
       "<Figure size 432x288 with 1 Axes>"
      ]
     },
     "metadata": {
      "needs_background": "light"
     },
     "output_type": "display_data"
    }
   ],
   "source": [
    "x_aprox = -0.188685403446543\n",
    "result = Newton(1, c, c_prim, 0.0000001, x_aprox)\n",
    "draw(result[0], result[1], result[2], 2, 'x^3 - 12x^2 + 3x + 1')"
   ]
  },
  {
   "cell_type": "markdown",
   "metadata": {},
   "source": [
    "### zad 8 Metoda siecznych\n",
    "Przypomnienie funkcji"
   ]
  },
  {
   "cell_type": "code",
   "execution_count": 4,
   "metadata": {},
   "outputs": [],
   "source": [
    "\n",
    "def a(x):\n",
    "    return np.sin(x/2)-1\n",
    "\n",
    "def a_prim(x):\n",
    "    return 0.5*np.cos(x/2)\n",
    "\n",
    "def b(x):\n",
    "    return np.e**x-np.tan(x)\n",
    "\n",
    "def b_prim(x):\n",
    "    return np.e**x-1/((np.cos(x))**2)\n",
    "\n",
    "def c(x):\n",
    "    return x**3-12*x**2+3*x+1\n",
    "\n",
    "def c_prim(x):\n",
    "    return (x**2-8*x+1)*3"
   ]
  },
  {
   "cell_type": "code",
   "execution_count": 8,
   "metadata": {},
   "outputs": [],
   "source": [
    "def met_siecz2(x0, x1, fun, epsilon):\n",
    "\n",
    "    x_list = [x0, x1]\n",
    "    \n",
    "    i = 0\n",
    "    while np.abs(x_list[-2]-x_list[-1]) > epsilon:\n",
    "\n",
    "        f_n = fun(x_list[i])\n",
    "        f_n1 = fun(x_list[i+1])\n",
    "        print(f_n)\n",
    "        print(f_n1)\n",
    "        result = x_list[i+1] - f_n1*(x_list[i+1]-x_list[i])/(f_n1-f_n)\n",
    "        x_list.append(result)\n",
    "        i += 1\n",
    "    return x_list\n",
    "\n"
   ]
  },
  {
   "cell_type": "code",
   "execution_count": 9,
   "metadata": {},
   "outputs": [],
   "source": [
    "def met_siecz(x0, x1, fun, epsilon):\n",
    "\n",
    "    xn_1 = x0 #xn-1\n",
    "    xn = x1 #xn\n",
    "    \n",
    "    i = 0\n",
    "    while np.abs(xn_1 - xn) > epsilon:\n",
    "\n",
    "        f_n1 = fun(xn_1) #f(xn-1)\n",
    "        f_n = fun(xn)  #f(xn)\n",
    "        \n",
    "        result = xn - f_n*(xn - xn_1)/(f_n - f_n1)\n",
    "        \n",
    "        xn_1 = xn\n",
    "        xn = result\n",
    "        i += 1\n",
    "\n",
    "        if i > 100:\n",
    "            print('Przekroczono ilość iteracji')\n",
    "            return False\n",
    "\n",
    "    return xn\n"
   ]
  },
  {
   "cell_type": "code",
   "execution_count": 13,
   "metadata": {},
   "outputs": [],
   "source": [
    "def met_siecz_alfa(x0, x1, fun, epsilon, x_zero):\n",
    "\n",
    "    xn_1 = x0 #xn-1\n",
    "    xn = x1 #xn\n",
    "    X = []\n",
    "    Y = []\n",
    "    i = 0\n",
    "    while np.abs(xn_1 - xn) > epsilon:\n",
    "\n",
    "        f_n1 = fun(xn_1) #f(xn-1)\n",
    "        f_n = fun(xn)  #f(xn)\n",
    "        \n",
    "        result = xn - f_n*(xn - xn_1)/(f_n - f_n1)\n",
    "        \n",
    "        X.append(np.log(np.abs(xn_1 - x_zero)))\n",
    "        Y.append(np.log(np.abs(xn - x_zero)))\n",
    "\n",
    "        xn_1 = xn\n",
    "        xn = result\n",
    "        i += 1\n",
    "\n",
    "        if i > 100:\n",
    "            print('Przekroczono ilość iteracji')\n",
    "            return False\n",
    "\n",
    "    return X, Y"
   ]
  },
  {
   "cell_type": "markdown",
   "metadata": {},
   "source": [
    "### a) $f(x) = \\sin{\\frac{x}{2}}-1$\n",
    "$ x_0 = 0.4\\pi, x_1 = 0.2\\pi$"
   ]
  },
  {
   "cell_type": "code",
   "execution_count": 10,
   "metadata": {},
   "outputs": [
    {
     "name": "stdout",
     "output_type": "stream",
     "text": [
      "3.1414843968277095\n"
     ]
    }
   ],
   "source": [
    "# a) f(x) = sin(x/2)\n",
    "print(met_siecz(0.4*np.pi, 0.2*np.pi, a, 0.0001))"
   ]
  },
  {
   "cell_type": "code",
   "execution_count": 63,
   "metadata": {},
   "outputs": [
    {
     "name": "stdout",
     "output_type": "stream",
     "text": [
      "numeryczna wartość alfa [ 1.00316329 -0.44908047]\n",
      "teoretyczna wartość alfa 1.618033988749895\n"
     ]
    },
    {
     "data": {
      "image/png": "[encoded data removed]",
      "text/plain": [
       "<Figure size 432x288 with 1 Axes>"
      ]
     },
     "metadata": {
      "needs_background": "light"
     },
     "output_type": "display_data"
    }
   ],
   "source": [
    "X_Y = met_siecz_alfa(0.4*np.pi, 0.2*np.pi, a, 0.0000001, np.pi)\n",
    "X = X_Y[0]\n",
    "Y = X_Y[1]\n",
    "\n",
    "print(\"numeryczna wartość alfa\", np.polyfit(X,Y, 1))\n",
    "\n",
    "print(\"teoretyczna wartość alfa\", (1 + np.sqrt(5))/2)\n",
    "\n",
    "plt.scatter(X[1:], Y[1:], label = f'alfa = {np.polyfit(X,Y, 1)[0]}')\n",
    "plt.plot(X, np.polyval(np.polyfit(X,Y,1), X))\n",
    "plt.legend()\n",
    "plt.title('a)')\n",
    "plt.show()"
   ]
  },
  {
   "cell_type": "markdown",
   "metadata": {},
   "source": [
    "### b) $f(x) = e^x - \\tan{x}$\n",
    "$ x_0 = 1.4, x_1 = 1.2$"
   ]
  },
  {
   "cell_type": "code",
   "execution_count": 11,
   "metadata": {},
   "outputs": [
    {
     "name": "stdout",
     "output_type": "stream",
     "text": [
      "1.306326856183283\n"
     ]
    }
   ],
   "source": [
    "# b) f(x) = e^x - tan(x)\n",
    "print(met_siecz(1.4, 1.2, b, 0.0001))"
   ]
  },
  {
   "cell_type": "code",
   "execution_count": 64,
   "metadata": {},
   "outputs": [
    {
     "name": "stdout",
     "output_type": "stream",
     "text": [
      "Numeryczna wartość alfa  1.6282860257219312\n",
      "Teoretyczna wartość alfa  1.618033988749895\n"
     ]
    },
    {
     "data": {
      "image/png": "[encoded data removed]",
      "text/plain": [
       "<Figure size 432x288 with 1 Axes>"
      ]
     },
     "metadata": {
      "needs_background": "light"
     },
     "output_type": "display_data"
    }
   ],
   "source": [
    "x = 1.30632694042307923617  #aprox x*\n",
    "X_Y = met_siecz_alfa(1.4, 1.2, b, 0.00000000001, x)\n",
    "X = X_Y[0]\n",
    "Y = X_Y[1]\n",
    "\n",
    "print('Numeryczna wartość alfa ', np.polyfit(X,Y, 1)[0])\n",
    "\n",
    "print('Teoretyczna wartość alfa ', (1 + np.sqrt(5))/2)\n",
    "\n",
    "plt.scatter(X, Y, label = f'alfa = {np.polyfit(X,Y, 1)[0]}')\n",
    "plt.plot(X, np.polyval(np.polyfit(X,Y,1), X))\n",
    "plt.legend()\n",
    "plt.title('b)')\n",
    "plt.show()"
   ]
  },
  {
   "cell_type": "markdown",
   "metadata": {},
   "source": [
    "### c) $f(x) = x^3 - 12x^2 + 3x + 1$\n",
    "$ x_0 = 1, x_1 = 0$"
   ]
  },
  {
   "cell_type": "code",
   "execution_count": 54,
   "metadata": {},
   "outputs": [
    {
     "name": "stdout",
     "output_type": "stream",
     "text": [
      "Aproksymowane miejsce zerowe  -0.18868537205325234\n"
     ]
    }
   ],
   "source": [
    "# c) f(x) = x^3 - 12x^2 + 3x + 1\n",
    "print('Aproksymowane miejsce zerowe ',met_siecz(1, 0, c, 0.0001))"
   ]
  },
  {
   "cell_type": "code",
   "execution_count": 65,
   "metadata": {},
   "outputs": [
    {
     "name": "stdout",
     "output_type": "stream",
     "text": [
      "Numeryczna wartość alfa  1.5968851782799833\n",
      "Teoretyczna wartość alfa  1.618033988749895\n"
     ]
    },
    {
     "data": {
      "image/png": "[encoded data removed]",
      "text/plain": [
       "<Figure size 432x288 with 1 Axes>"
      ]
     },
     "metadata": {
      "needs_background": "light"
     },
     "output_type": "display_data"
    }
   ],
   "source": [
    "x = -0.188685403446543 #aprox x*\n",
    "X_Y = met_siecz_alfa(1, 0, c, 0.000000001, x)\n",
    "X = X_Y[0]l\n",
    "Y = X_Y[1]\n",
    "\n",
    "print('Numeryczna wartość alfa ', np.polyfit(X,Y, 1)[0])\n",
    "\n",
    "print('Teoretyczna wartość alfa ',(1 + np.sqrt(5))/2)\n",
    "\n",
    "plt.scatter(X, Y, label = f'alfa = {np.polyfit(X,Y, 1)[0]}')\n",
    "plt.plot(X, np.polyval(np.polyfit(X,Y,1), X))\n",
    "plt.legend()\n",
    "plt.title('c)')\n",
    "plt.show()"
   ]
  },
  {
   "cell_type": "markdown",
   "metadata": {},
   "source": []
  }
 ],
 "metadata": {
  "kernelspec": {
   "display_name": "Python 3.8.3 ('base')",
   "language": "python",
   "name": "python3"
  },
  "language_info": {
   "codemirror_mode": {
    "name": "ipython",
    "version": 3
   },
   "file_extension": ".py",
   "mimetype": "text/x-python",
   "name": "python",
   "nbconvert_exporter": "python",
   "pygments_lexer": "ipython3",
   "version": "3.8.3"
  },
  "vscode": {
   "interpreter": {
    "hash": "e730cb581568df64648447a957148ffe1c54a7de8406702b74a767387abe9ac1"
   }
  }
 },
 "nbformat": 4,
 "nbformat_minor": 4
}
