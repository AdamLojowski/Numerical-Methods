{
 "cells": [
  {
   "cell_type": "code",
   "execution_count": 1,
   "metadata": {},
   "outputs": [],
   "source": [
    "import matplotlib.pyplot as plt\n",
    "import numpy as np"
   ]
  },
  {
   "cell_type": "markdown",
   "metadata": {},
   "source": [
    "### Zad 3\n",
    "Metodą aproksymacji średniokwadratowej (ciągłej) wyznaczyć wielomian stopnia co\n",
    "najwyżej drugiego aproksymujący funkcje $y = sin x, x ∈ [0, π/2]$ przy użyciu bazy:\n",
    "a) $\\{1, x, x2\\}$, b) wielomianów Legendre’a $P_i(x) = \\frac{1}{2^i i!} \\frac{d^i}{dx^i}(x^2 - 1)^i,\\;  i = 0, 1, 2 $, przetransformowanych do przedziału $[0, π/2]$."
   ]
  },
  {
   "cell_type": "code",
   "execution_count": 18,
   "metadata": {},
   "outputs": [],
   "source": [
    "x = np.linspace(0, np.pi/2, 1000)\n",
    "y = np.sin(x)"
   ]
  },
  {
   "cell_type": "code",
   "execution_count": 19,
   "metadata": {},
   "outputs": [
    {
     "data": {
      "image/png": "[encoded data removed]",
      "text/plain": [
       "<Figure size 432x288 with 1 Axes>"
      ]
     },
     "metadata": {
      "needs_background": "light"
     },
     "output_type": "display_data"
    }
   ],
   "source": [
    "plt.plot(x, np.sin(x))\n",
    "plt.show()"
   ]
  },
  {
   "cell_type": "markdown",
   "metadata": {},
   "source": [
    "a) baza \n",
    "\n",
    "$\\{ \\phi_1, \\phi_2, \\phi_3 \\} = \\{1, x, x^2\\}$\n",
    "\n",
    "Tworzymy macierze dla alfy, beta  i rozwiązujemy układ równań\n",
    "\n",
    "$\\alpha_{i,j} = \\langle \\phi_i,\\phi_j \\rangle$\n",
    "\n",
    "$\\beta_i = \\langle \\sin{x}, \\phi_k \\rangle$\n",
    "\n",
    "$$\\left[\\begin{array}{ccc}\n",
    "\\alpha_{1,1} & \\alpha_{1,2} & \\dots \\\\\n",
    "\\alpha_{2,1} & \\dots  &\\dots\\\\\n",
    "\\dots& \\dots&\\alpha_{3,3}\n",
    "\\end{array}\\right]$$"
   ]
  },
  {
   "cell_type": "code",
   "execution_count": 21,
   "metadata": {},
   "outputs": [],
   "source": [
    "pi = np.pi\n",
    "alpha_m = np.array([[pi/2, pi**2/8, pi**3/24], [pi**2/8, pi**3/24, pi**4/64], [pi**3/24, pi**4/64, pi**5/160]])\n",
    "beta_m = np.array([1, 1, pi-2])"
   ]
  },
  {
   "cell_type": "code",
   "execution_count": 22,
   "metadata": {},
   "outputs": [],
   "source": [
    "alpha_m_inv = np.linalg.inv(alpha_m)"
   ]
  },
  {
   "cell_type": "code",
   "execution_count": 23,
   "metadata": {},
   "outputs": [
    {
     "data": {
      "text/plain": [
       "array([-0.02432495,  1.19574506, -0.33824001])"
      ]
     },
     "execution_count": 23,
     "metadata": {},
     "output_type": "execute_result"
    }
   ],
   "source": [
    "a = np.matmul(alpha_m_inv, beta_m)\n",
    "a"
   ]
  },
  {
   "cell_type": "code",
   "execution_count": 24,
   "metadata": {},
   "outputs": [],
   "source": [
    "def fi(x):\n",
    "    n = len(x)\n",
    "    result_list = []\n",
    "    for i in range(n):\n",
    "        result_list.append([1, x[i], x[i]**2])\n",
    "    \n",
    "    return result_list\n",
    "        \n"
   ]
  },
  {
   "cell_type": "code",
   "execution_count": 25,
   "metadata": {},
   "outputs": [],
   "source": [
    "fi_x = fi(x)"
   ]
  },
  {
   "cell_type": "code",
   "execution_count": 26,
   "metadata": {},
   "outputs": [],
   "source": [
    "n = 3\n",
    "f_list = np.zeros(len(x))\n",
    "for i in range(len(x)):\n",
    "    sigma = 0\n",
    "    for j in range(n):\n",
    "        sigma += a[j] * fi_x[i][j]\n",
    "    \n",
    "    f_list[i] = sigma"
   ]
  },
  {
   "cell_type": "code",
   "execution_count": 29,
   "metadata": {},
   "outputs": [
    {
     "data": {
      "image/png": "[encoded data removed]",
      "text/plain": [
       "<Figure size 432x288 with 1 Axes>"
      ]
     },
     "metadata": {
      "needs_background": "light"
     },
     "output_type": "display_data"
    }
   ],
   "source": [
    "plt.plot(x, f_list, label = 'aproksymacja')\n",
    "plt.plot(x, y, color = 'red', label = 'sin(x)')\n",
    "plt.legend()\n",
    "plt.show()"
   ]
  },
  {
   "cell_type": "markdown",
   "metadata": {},
   "source": [
    "b) Wielomiany Legendre'a\n",
    "\n",
    "Dla $x \\in [-1, 1]$\n",
    "\n",
    "$$P_i(x) = \\frac{1}{2^i i!} \\frac{d^i}{dx^i}(x^2 - 1)^i,\\;  i = 0, 1, 2 $$\n",
    "\n",
    "Mamy\n",
    "\n",
    "$$ -1 < x < 1 \\to 0 < \\frac{\\pi(x + 1)}{4} < \\frac{\\pi}{2}$$\n",
    "\n",
    "Jeśli $ t = \\frac{\\pi(x + 1)}{4}, \\; t\\in[0, \\frac{\\pi}{2}]$. To $x = \\frac{4t}{\\pi}-1$\n",
    "\n",
    "Podstawiamy do wzoru dla $P_i(x)$ i otrzymujemy (Redaktor: przy delikatnej pomocy Wolframa)"
   ]
  },
  {
   "cell_type": "markdown",
   "metadata": {},
   "source": [
    "$$ P0 = 1,$$\n",
    "$$ P1 = \\frac{4}{\\pi^2}(4t-\\pi),$$\n",
    "$$ P2 = \\frac{16}{\\pi^4}(24t^2 - 12\\pi t + \\pi^2). $$\n",
    "\n",
    "Ortonormalizacja:\n",
    "\n",
    "$$ P_k = \\frac{P_k}{||P_k||} = \\frac{P_k}{\\sqrt{\\langle P_k, P_k \\rangle}} = \\frac{P_k}{\\sqrt{\\int ^{\\frac{\\pi}{2}}_0 P_k ^2}}$$\n",
    "\n",
    "Wtedy\n",
    "\n",
    "$$ P_0 = \\sqrt{\\frac{2}{\\pi}}, $$\n",
    "$$ P_1 = \\frac{4\\sqrt(3\\pi)}{\\pi^2\\sqrt{8}}(4t - \\pi) $$\n",
    "$$ \\frac{14\\sqrt{5\\pi^3}}{\\pi^4\\sqrt{128}}(24t^2 - 12\\pi t + \\pi^2) $$"
   ]
  },
  {
   "cell_type": "markdown",
   "metadata": {},
   "source": [
    "Korzystamy ze wzoru podanego na wykładzie\n",
    "\n",
    "$$ \\sin{t} = \\Sigma^3 _{k = 1} a_k^* \\psi_k, $$\n",
    "\n",
    "$\\{\\psi_1, \\psi_2, \\psi_3$\\} = \\{P_0, P_1, P_2 \\},\n",
    "\n",
    "$a_i^* = \\langle \\sin{t}, \\psi_k \\rangle$\n",
    "\n",
    "Wyliczamy $a^*$ przy pomocy Wolframa lub na kartce jak kto woli"
   ]
  },
  {
   "cell_type": "code",
   "execution_count": 38,
   "metadata": {},
   "outputs": [],
   "source": [
    "a_1 = np.sqrt(2/pi)\n",
    "a_2 = - np.sqrt(6/(pi**3))*(pi - 4)\n",
    "a_3 = np.sqrt(10/(pi**5))*(pi**2 + 12*pi - 48)\n",
    "a_list = [a_1, a_2, a_3]"
   ]
  },
  {
   "cell_type": "code",
   "execution_count": 30,
   "metadata": {},
   "outputs": [],
   "source": [
    "t = np.linspace(0, pi/2, 1000)\n",
    "y_b = np.sin(t)"
   ]
  },
  {
   "cell_type": "code",
   "execution_count": 39,
   "metadata": {},
   "outputs": [],
   "source": [
    "psi_1 = np.sqrt(2/pi)\n",
    "psi_2 = 4 * np.sqrt(3 * pi)/(pi**2 *np.sqrt(8))*(4 * t-pi)\n",
    "psi_3 = (16*np.sqrt(5*pi**3))/(pi**4*np.sqrt(128))*(24*t**2 - 12*pi*t + pi**2)\n",
    "psi_list = [psi_1, psi_2, psi_3]"
   ]
  },
  {
   "cell_type": "code",
   "execution_count": 41,
   "metadata": {},
   "outputs": [],
   "source": [
    "n = 3\n",
    "result = 0\n",
    "for i in range(n):\n",
    "    result += a_list[i]*psi_list[i]"
   ]
  },
  {
   "cell_type": "code",
   "execution_count": 43,
   "metadata": {},
   "outputs": [
    {
     "data": {
      "image/png": "[encoded data removed]",
      "text/plain": [
       "<Figure size 432x288 with 1 Axes>"
      ]
     },
     "metadata": {
      "needs_background": "light"
     },
     "output_type": "display_data"
    }
   ],
   "source": [
    "plt.plot(t, result, label = 'aproksymacja')\n",
    "plt.plot(t, y_b, color = 'red', label = 'sin(t)')\n",
    "plt.legend()\n",
    "plt.show()"
   ]
  }
 ],
 "metadata": {
  "kernelspec": {
   "display_name": "Python 3.8.3 ('base')",
   "language": "python",
   "name": "python3"
  },
  "language_info": {
   "codemirror_mode": {
    "name": "ipython",
    "version": 3
   },
   "file_extension": ".py",
   "mimetype": "text/x-python",
   "name": "python",
   "nbconvert_exporter": "python",
   "pygments_lexer": "ipython3",
   "version": "3.8.3"
  },
  "vscode": {
   "interpreter": {
    "hash": "e730cb581568df64648447a957148ffe1c54a7de8406702b74a767387abe9ac1"
   }
  }
 },
 "nbformat": 4,
 "nbformat_minor": 4
}
